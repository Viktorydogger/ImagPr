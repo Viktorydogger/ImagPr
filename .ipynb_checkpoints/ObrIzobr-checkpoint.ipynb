{
 "cells": [
  {
   "cell_type": "code",
   "execution_count": 5,
   "metadata": {},
   "outputs": [],
   "source": [
    "import cv2\n",
    "import numpy as np\n",
    "import math as m\n",
    "# достаём страничку\n",
    "image = cv2.imread('pic6.jpg')\n",
    "imageold=cv2.imread('pic6.jpg')\n",
    "fig = np.zeros((1,4))\n",
    "\n",
    "iost=0\n",
    "S = 0\n",
    "stopv=0.8\n",
    "Sim = image.shape[0]*image.shape[1]\n",
    "iost = 0\n",
    "gray = cv2.cvtColor(image, cv2.COLOR_BGR2GRAY)\n",
    "mask = cv2.threshold(gray, 0, 255, cv2.THRESH_BINARY_INV + cv2.THRESH_OTSU)[1]\n",
    "# находим самую большую область\n",
    "cnts = cv2.findContours(mask, cv2.RETR_EXTERNAL, cv2.CHAIN_APPROX_SIMPLE)\n",
    "cnts = cnts[0] if len(cnts) == 2 else cnts[1]\n",
    "cnts = sorted(cnts, key=cv2.contourArea, reverse=True)\n",
    "# вырезаем самую большую область\n",
    "for c in cnts:\n",
    "    x,y,w,h = cv2.boundingRect(c)\n",
    "    fig = np.append(fig,[[x,y,w,h]],axis = 0)\n",
    "    ROI1 = image[y:y+h, x:x+w]\n",
    "    S += h*w\n",
    "    iost+=1\n",
    "    if S/Sim > stopv: break\n",
    "fig = np.delete(fig,0,axis=0)\n",
    "fig1=np.array(sorted(fig,key=lambda point:(point[1],point[0])))\n",
    "fig1 = fig1.astype(int)\n",
    "\n",
    "for i in range(iost):\n",
    "    x,y,w,h = fig1[i,0],fig1[i,1],fig1[i,2],fig1[i,3]\n",
    "    cv2.imshow('ROI'+str(i),imageold[y:y+h, x:x+w])\n",
    "    cv2.waitKey()\n",
    "cv2.destroyAllWindows()"
   ]
  },
  {
   "cell_type": "code",
   "execution_count": null,
   "metadata": {},
   "outputs": [],
   "source": []
  },
  {
   "cell_type": "code",
   "execution_count": null,
   "metadata": {},
   "outputs": [],
   "source": []
  }
 ],
 "metadata": {
  "kernelspec": {
   "display_name": "Python 3",
   "language": "python",
   "name": "python3"
  },
  "language_info": {
   "codemirror_mode": {
    "name": "ipython",
    "version": 3
   },
   "file_extension": ".py",
   "mimetype": "text/x-python",
   "name": "python",
   "nbconvert_exporter": "python",
   "pygments_lexer": "ipython3",
   "version": "3.8.3"
  }
 },
 "nbformat": 4,
 "nbformat_minor": 4
}
